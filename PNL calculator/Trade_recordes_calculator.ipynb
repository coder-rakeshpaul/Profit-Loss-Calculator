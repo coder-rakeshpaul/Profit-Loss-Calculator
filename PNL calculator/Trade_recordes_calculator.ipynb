{
  "nbformat": 4,
  "nbformat_minor": 0,
  "metadata": {
    "colab": {
      "provenance": [],
      "collapsed_sections": []
    },
    "kernelspec": {
      "name": "python3",
      "display_name": "Python 3"
    },
    "language_info": {
      "name": "python"
    }
  },
  "cells": [
    {
      "cell_type": "markdown",
      "source": [
        "Creating the CSV file to record our trade history\n"
      ],
      "metadata": {
        "id": "9YftVawaM4Hh"
      }
    },
    {
      "cell_type": "code",
      "source": [
        "import csv\n",
        "fields = ['Name', 'lot size', 'buy price', 'sell price', 'PNL']\n",
        "filename = \"trade_history.csv\"\n",
        "with open(filename, 'w') as csvfile:\n",
        "  csvwriter= csv.writer(csvfile)\n",
        "  csvwriter.writerow(fields)\n"
      ],
      "metadata": {
        "id": "7UPlZZy1NurY"
      },
      "execution_count": null,
      "outputs": []
    },
    {
      "cell_type": "markdown",
      "source": [
        "Calculating the Profit and Loss of a particular trade and storing the data in the CSV file created "
      ],
      "metadata": {
        "id": "I1o1hPamNHnC"
      }
    },
    {
      "cell_type": "code",
      "source": [
        "import pandas as pd\n",
        "import numpy as np\n",
        "import csv\n",
        "\n",
        "class charges:\n",
        "  def __init__(self,lot,buy_price, sell_price):\n",
        "    self.buy_price=buy_price\n",
        "    self.sell_price=sell_price\n",
        "    self.total_buy_price=lot*buy_price\n",
        "    self.total_sell_price=lot*sell_price\n",
        "    self.net_price= (sell_price-buy_price)*lot\n",
        "\n",
        "  def calculate_buy_price(self):\n",
        "    return  ((0.003/100)+ (0.053/100) + (0.0001/100))* self.total_buy_price + 20 + (18/100)*(( (0.053/100) + (0.0001/100))* self.total_buy_price + 20)\n",
        "  def calculate_sell_price(self):\n",
        "    return ((0.05/100)+ (0.053/100) + (0.0001/100))*self.total_sell_price + 20 + (18/100)*(( (0.053/100) + (0.0001/100))*self.total_sell_price + 20)\n",
        "\n",
        "lot = int(input(\"Lot size: \"))\n",
        "p=charges(lot,int(input(\"buy price: \")),int(input(\"sell price: \")))\n",
        "PNL=(p.net_price - round(p.calculate_sell_price() + p.calculate_buy_price())) \n",
        "\n",
        "rows=[input(\"name: \") , lot,p.buy_price ,p.sell_price ,PNL]\n",
        "\n",
        "filename = \"trade_history.csv\"\n",
        "with open(filename, 'a') as csvfile:\n",
        "  csvwriter= csv.writer(csvfile)\n",
        "\n",
        "  csvwriter.writerow(rows)"
      ],
      "metadata": {
        "id": "ExjhpqK4BEIj",
        "colab": {
          "base_uri": "https://localhost:8080/"
        },
        "outputId": "60352b98-e86b-4f0f-cc6f-4ea72e65867c"
      },
      "execution_count": null,
      "outputs": [
        {
          "name": "stdout",
          "output_type": "stream",
          "text": [
            "Lot size: 50\n",
            "buy price: 100\n",
            "sell price: 200\n",
            "name: hiik\n"
          ]
        }
      ]
    }
  ]
}